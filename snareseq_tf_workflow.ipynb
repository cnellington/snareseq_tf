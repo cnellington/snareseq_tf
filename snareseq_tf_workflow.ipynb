{
 "cells": [
  {
   "cell_type": "code",
   "execution_count": 1,
   "metadata": {},
   "outputs": [
    {
     "name": "stderr",
     "output_type": "stream",
     "text": [
      "/Users/calebellington/.pyenv/versions/3.7.3/lib/python3.7/site-packages/pandas/compat/__init__.py:120: UserWarning: Could not import the lzma module. Your installed Python is incomplete. Attempting to use lzma compression will result in a RuntimeError.\n",
      "  warnings.warn(msg)\n"
     ]
    }
   ],
   "source": [
    "\"\"\"\n",
    "Bar-Joseph Lab Rotation\n",
    "Caleb Ellington\n",
    "10/14/20\n",
    "\n",
    "SNARE-seq transcription factor analysis workflow\n",
    "\"\"\"\n",
    "\n",
    "import os\n",
    "\n",
    "import pandas as pd\n",
    "import numpy as np\n",
    "import matplotlib.pyplot as plt\n",
    "from scipy.io import mmread\n",
    "from scipy.stats import ttest_ind, linregress"
   ]
  },
  {
   "cell_type": "code",
   "execution_count": 2,
   "metadata": {},
   "outputs": [],
   "source": [
    "# Build a dictionary of {gene_id: (chr#, start, stop)}\n",
    "# Using http://hgdownload.soe.ucsc.edu/goldenPath/mm10/bigZips/genes/mm10.ncbiRefSeq.gtf.gz\n",
    "ref = pd.read_csv(\"reference_genomes/mm10.ncbiRefSeq.gtf\", sep=\"\\t\", header=None)\n",
    "genes_ref = {}\n",
    "\n",
    "# trim reference\n",
    "ref = ref[ref[2] == 'transcript']\n",
    "\n",
    "for idx, row in ref.iterrows():\n",
    "    gene = row[8].split(\"\\\"\")[1]\n",
    "    chrnum = row[0]\n",
    "    start = row[3]\n",
    "    stop = row[4]\n",
    "    if gene not in genes_ref:\n",
    "        genes_ref[gene] = (chrnum, start, stop)"
   ]
  },
  {
   "cell_type": "code",
   "execution_count": 3,
   "metadata": {},
   "outputs": [],
   "source": [
    "# Get a list of SNAREseq peaks\n",
    "# Using AdBrainCortex from https://www.ncbi.nlm.nih.gov/geo/query/acc.cgi?acc=GSE126074\n",
    "peaks_data = pd.read_csv(\"SNAREseq_data/GSE126074_AdBrainCortex_SNAREseq_chromatin.peaks.tsv\", sep=\"\\t\", header=None)\n",
    "peaks = []\n",
    "\n",
    "for idx, row in peaks_data.iterrows():\n",
    "    chrnum, indices = row[0].split(\":\")\n",
    "    start, stop = indices.split(\"-\")\n",
    "    start = int(start)\n",
    "    stop = int(stop)\n",
    "    peaks.append((chrnum, start, stop))"
   ]
  },
  {
   "cell_type": "code",
   "execution_count": 4,
   "metadata": {},
   "outputs": [],
   "source": [
    "# Get a list of SNAREseq genes\n",
    "# Using AdBrainCortex from https://www.ncbi.nlm.nih.gov/geo/query/acc.cgi?acc=GSE126074\n",
    "genes_data = pd.read_csv(\"SNAREseq_data/GSE126074_AdBrainCortex_SNAREseq_cDNA.genes.tsv\", sep=\"\\t\", header=None)\n",
    "genes = []\n",
    "\n",
    "for idx, row in genes_data.iterrows():\n",
    "    gene = row[0]\n",
    "    if gene in genes_ref.keys():  # Excludes ~11000 genes when using mm10\n",
    "        genes.append((idx, gene))"
   ]
  },
  {
   "cell_type": "code",
   "execution_count": 5,
   "metadata": {},
   "outputs": [],
   "source": [
    "# Create a chrnum lookup for peaks and genes\n",
    "chr_gene = {}\n",
    "chr_peak = {}\n",
    "for g_i, gene in genes:\n",
    "    chrnum, start, stop = genes_ref[gene]\n",
    "    if chrnum not in chr_gene.keys():\n",
    "        chr_gene[chrnum] = []\n",
    "    chr_gene[chrnum].append((gene, start, stop))\n",
    "for p_i, peak in enumerate(peaks):\n",
    "    chrnum, start, stop = peak\n",
    "    if chrnum not in chr_peak.keys():\n",
    "        chr_peak[chrnum] = []\n",
    "    chr_peak[chrnum].append((p_i, start, stop))"
   ]
  },
  {
   "cell_type": "code",
   "execution_count": 6,
   "metadata": {},
   "outputs": [],
   "source": [
    "# O(n^2) approach won't work, genes*peaks = 8109079040\n",
    "# TODO: Depreciated reference genome, update to GRCm38\n",
    "\n",
    "# Sort by start location\n",
    "for chrnum in chr_peak.keys():\n",
    "    chr_gene[chrnum].sort(key=lambda val:val[1])\n",
    "    chr_peak[chrnum].sort(key=lambda val:val[1])\n",
    "\n",
    "# O(n+m) pass\n",
    "# 1. Pass over sorted genes for each chromosome\n",
    "# 2. Increment the start/end index of the valid peaks\n",
    "peaks_by_gene = {}\n",
    "max_dist = 100000\n",
    "\n",
    "# single pass over genes, 2 passes over peaks, O(m+2n)\n",
    "for chrnum in chr_peak.keys():\n",
    "    chr_genes = chr_gene[chrnum]\n",
    "    chr_peaks = chr_peak[chrnum]\n",
    "    frame_start, frame_end = 0, 1\n",
    "    for gene, g_start, g_stop in chr_genes: \n",
    "        min_i = g_start - max_dist\n",
    "        max_i = g_stop + max_dist\n",
    "        while frame_start < len(chr_peaks) and min_i > chr_peaks[frame_start][1]:\n",
    "            frame_start += 1\n",
    "        frame_end = max(frame_end, frame_start+1)\n",
    "        while frame_end < len(chr_peaks) and max_i > chr_peaks[frame_end][2]:\n",
    "            frame_end += 1\n",
    "        peaks_by_gene[gene] = chr_peaks[frame_start:frame_end]"
   ]
  },
  {
   "cell_type": "code",
   "execution_count": 7,
   "metadata": {},
   "outputs": [],
   "source": [
    "# Load the cell-by-gene and cell-by-peak matrices\n",
    "genecells = mmread(\"SNAREseq_data/GSE126074_AdBrainCortex_SNAREseq_cDNA.counts.mtx\").toarray()\n",
    "peakcells = mmread(\"SNAREseq_data/GSE126074_AdBrainCortex_SNAREseq_chromatin.counts.mtx\").toarray()"
   ]
  },
  {
   "cell_type": "code",
   "execution_count": 8,
   "metadata": {},
   "outputs": [
    {
     "data": {
      "text/plain": [
       "668613"
      ]
     },
     "execution_count": 8,
     "metadata": {},
     "output_type": "execute_result"
    }
   ],
   "source": [
    "# Get the correction value for multiple-hypothesis tests\n",
    "correction = 0\n",
    "for g_peaks in peaks_by_gene.values():\n",
    "    correction += len(g_peaks)\n",
    "correction"
   ]
  },
  {
   "cell_type": "code",
   "execution_count": 9,
   "metadata": {},
   "outputs": [
    {
     "name": "stderr",
     "output_type": "stream",
     "text": [
      "/Users/calebellington/.pyenv/versions/3.7.3/lib/python3.7/site-packages/numpy/core/fromnumeric.py:3584: RuntimeWarning: Degrees of freedom <= 0 for slice\n",
      "  **kwargs)\n",
      "/Users/calebellington/.pyenv/versions/3.7.3/lib/python3.7/site-packages/numpy/core/_methods.py:209: RuntimeWarning: invalid value encountered in double_scalars\n",
      "  ret = ret.dtype.type(ret / rcount)\n"
     ]
    }
   ],
   "source": [
    "# Get all significant peaks using multiple-hypothesis 2-sided t-test\n",
    "sig_peaks = []\n",
    "sig_pairs = []\n",
    "for i in range(len(genes)):\n",
    "    g_idx, gene = genes[i]\n",
    "    if gene not in peaks_by_gene.keys():\n",
    "        continue\n",
    "    g_peaks = peaks_by_gene[gene]\n",
    "    peak_ids = [idval for idval, _, _ in g_peaks]\n",
    "    expr_vals = genecells[g_idx]\n",
    "    open_vals = peakcells[peak_ids]\n",
    "    \n",
    "    for i, peak in enumerate(open_vals):\n",
    "        open_cells = peak == 1\n",
    "        if (open_cells).all() or (~open_cells).all():\n",
    "            continue\n",
    "        expr_open = expr_vals[open_cells]\n",
    "        expr_closed = expr_vals[~open_cells]\n",
    "        tstat, pval = ttest_ind(expr_open, expr_closed)\n",
    "        if correction*pval < 0.05:\n",
    "#             print(f\"pval: {correction*pval}, peak: {g_peaks[i]}, gene: {gene, g_idx}\")\n",
    "            sig_peaks.append(peak_ids[i])\n",
    "            sig_pairs.append((g_idx, peak_ids[i]))"
   ]
  },
  {
   "cell_type": "code",
   "execution_count": 10,
   "metadata": {},
   "outputs": [],
   "source": [
    "# Found 1686 peaks with significant impact on expression\n",
    "# 1669 unique peak ids\n",
    "# Get all peak sequences using genome.ucsd.edu\n",
    "from urllib.request import urlopen\n",
    "from xml.etree.ElementTree import parse\n",
    "\n",
    "sig_peaks_unique = np.unique(sig_peaks)\n",
    "peak_seqs = []\n",
    "for peak_id in sig_peaks_unique:\n",
    "    peak = peaks[peak_id]\n",
    "    docurl = urlopen(f'http://genome.ucsc.edu/cgi-bin/das/mm10/dna?segment={peak[0]}:{peak[1]},{peak[2]}')\n",
    "    seq = parse(docurl).getroot()[0][0].text\n",
    "    seq = seq.replace('\\n', '')\n",
    "    peak_seqs.append(seq)"
   ]
  },
  {
   "cell_type": "code",
   "execution_count": 21,
   "metadata": {},
   "outputs": [],
   "source": [
    "# Write peak seqs to .fasta for upload to meme-suite.org\n",
    "with open(\"sig_peaks.fasta\", \"w\") as fasta:\n",
    "    for i, (peak_id, peak_seq) in enumerate(zip(sig_peaks_unique, peak_seqs)):\n",
    "        fasta.write(f\">sigpeak{i}: ({peaks[peak_id][0]}, {peaks[peak_id][1]}, {peaks[peak_id][2]})\\n\")\n",
    "        fasta.write(peak_seq)\n",
    "        fasta.write('\\n')\n",
    "    fasta.write('\\n')\n",
    "    fasta.close()"
   ]
  },
  {
   "cell_type": "code",
   "execution_count": 11,
   "metadata": {},
   "outputs": [],
   "source": [
    "# Do meme-suite runs to get motifs, motif-binding TFs, and peaks w motifs\n",
    "# \n",
    "# MEME motif analysis\n",
    "# http://meme-suite.org/tools/meme\n",
    "#\n",
    "# Tomtom for matching transcription factors to to motifs\n",
    "# http://meme-suite.org/tools/tomtom\n",
    "#\n",
    "# FIMO for finding motif locations in sig_peaks.fasta\n",
    "# http://meme-suite.org/tools/fimo\n",
    "\n",
    "motif1_tf_genes = ['Maz', 'Sp5']\n",
    "motif2_tf_genes = ['Rreb1']\n",
    "motif3_tf_genes = ['Sall1', 'Maz']\n",
    "motif4_tf_genes = ['Stat1']\n",
    "motif5_tf_genes = ['Ctcf', 'Ctcfl']\n",
    "motifs = [motif1_tf_genes, motif2_tf_genes, motif3_tf_genes, motif4_tf_genes, motif5_tf_genes]"
   ]
  },
  {
   "cell_type": "code",
   "execution_count": 12,
   "metadata": {},
   "outputs": [
    {
     "name": "stderr",
     "output_type": "stream",
     "text": [
      "/Users/calebellington/.pyenv/versions/3.7.3/lib/python3.7/site-packages/scipy/stats/_stats_mstats_common.py:130: RuntimeWarning: invalid value encountered in double_scalars\n",
      "  slope = r_num / ssxm\n",
      "/Users/calebellington/.pyenv/versions/3.7.3/lib/python3.7/site-packages/scipy/stats/_stats_mstats_common.py:140: RuntimeWarning: invalid value encountered in sqrt\n",
      "  t = r * np.sqrt(df / ((1.0 - r + TINY)*(1.0 + r + TINY)))\n",
      "/Users/calebellington/.pyenv/versions/3.7.3/lib/python3.7/site-packages/scipy/stats/_stats_mstats_common.py:142: RuntimeWarning: invalid value encountered in double_scalars\n",
      "  sterrest = np.sqrt((1 - r**2) * ssym / ssxm / df)\n"
     ]
    }
   ],
   "source": [
    "# Test motif-gene correlations for significant motif-having peaks\n",
    "\n",
    "tf_gene_pairs = []\n",
    "correction = 8 * len(sig_pairs)  # multiple hypothesis correction\n",
    "for motif_id in range(len(motifs)):\n",
    "    for tf_id in range(len(motifs[motif_id])):\n",
    "        motif_peak_df = pd.read_csv(f'motif_peak_matches/fimo_motif{motif_id+1}.tsv', sep='\\t')\n",
    "        motif_peak_ids = motif_peak_df['sequence_name'].dropna().map(lambda x: int(x[7:]))\n",
    "\n",
    "        tf_gene = motifs[motif_id][tf_id]\n",
    "        tf_gene_idx = [idx for idx, gene in genes if gene == tf_gene][0]\n",
    "        tf_expression = genecells[tf_gene_idx]\n",
    "\n",
    "        correlation = []\n",
    "        peaks_considered = 0\n",
    "        for g_idx, p_idx in sig_pairs:\n",
    "            if p_idx not in motif_peak_ids:\n",
    "                continue\n",
    "            motif_gene_expression = genecells[g_idx]\n",
    "            motif_peak_open = peakcells[p_idx].astype(bool)\n",
    "            if motif_peak_open.any() == False:\n",
    "                continue\n",
    "            open_gene_expr = motif_gene_expression[motif_peak_open]\n",
    "            open_tf_expr = tf_expression[motif_peak_open]\n",
    "            open_tf_active = np.logical_or(open_tf_expr != 0, open_gene_expr != 0)\n",
    "            if open_tf_active.any() == False:\n",
    "                continue\n",
    "            peaks_considered += 1\n",
    "            active_open_gene_expr = open_gene_expr[open_tf_active]\n",
    "            active_open_tf_expr = open_tf_expr[open_tf_active]\n",
    "            _, _, rval, pval, stderr = linregress(active_open_gene_expr, active_open_tf_expr)\n",
    "            if not np.isnan(pval) and pval*correction < 0.05:\n",
    "                inverse = ~np.logical_and(active_open_gene_expr, active_open_tf_expr).all()\n",
    "                numdp = len(active_open_gene_expr)\n",
    "                tf_gene_pairs.append((tf_gene, genes_data[0][g_idx], rval**2, pval, inverse, numdp))"
   ]
  },
  {
   "cell_type": "code",
   "execution_count": 23,
   "metadata": {},
   "outputs": [
    {
     "data": {
      "text/html": [
       "<div>\n",
       "<style scoped>\n",
       "    .dataframe tbody tr th:only-of-type {\n",
       "        vertical-align: middle;\n",
       "    }\n",
       "\n",
       "    .dataframe tbody tr th {\n",
       "        vertical-align: top;\n",
       "    }\n",
       "\n",
       "    .dataframe thead th {\n",
       "        text-align: right;\n",
       "    }\n",
       "</style>\n",
       "<table border=\"1\" class=\"dataframe\">\n",
       "  <thead>\n",
       "    <tr style=\"text-align: right;\">\n",
       "      <th></th>\n",
       "      <th>tf</th>\n",
       "      <th>gene</th>\n",
       "      <th>rsquared</th>\n",
       "      <th>pvalue</th>\n",
       "      <th>repressor</th>\n",
       "      <th>samples</th>\n",
       "    </tr>\n",
       "  </thead>\n",
       "  <tbody>\n",
       "    <tr>\n",
       "      <th>0</th>\n",
       "      <td>Maz</td>\n",
       "      <td>4930439A04Rik</td>\n",
       "      <td>1.0</td>\n",
       "      <td>9.003163161571059e-11</td>\n",
       "      <td>True</td>\n",
       "      <td>3</td>\n",
       "    </tr>\n",
       "    <tr>\n",
       "      <th>1</th>\n",
       "      <td>Maz</td>\n",
       "      <td>9130227L01Rik</td>\n",
       "      <td>1.0</td>\n",
       "      <td>9.003163161571059e-11</td>\n",
       "      <td>True</td>\n",
       "      <td>3</td>\n",
       "    </tr>\n",
       "    <tr>\n",
       "      <th>2</th>\n",
       "      <td>Maz</td>\n",
       "      <td>Aox3</td>\n",
       "      <td>1.0</td>\n",
       "      <td>1.2004217548761408e-30</td>\n",
       "      <td>True</td>\n",
       "      <td>5</td>\n",
       "    </tr>\n",
       "    <tr>\n",
       "      <th>3</th>\n",
       "      <td>Maz</td>\n",
       "      <td>Gm11578</td>\n",
       "      <td>1.0</td>\n",
       "      <td>0.0</td>\n",
       "      <td>True</td>\n",
       "      <td>2</td>\n",
       "    </tr>\n",
       "    <tr>\n",
       "      <th>4</th>\n",
       "      <td>Maz</td>\n",
       "      <td>Gm16150</td>\n",
       "      <td>1.0</td>\n",
       "      <td>9.003163161571059e-11</td>\n",
       "      <td>True</td>\n",
       "      <td>3</td>\n",
       "    </tr>\n",
       "  </tbody>\n",
       "</table>\n",
       "</div>"
      ],
      "text/plain": [
       "    tf           gene rsquared                  pvalue repressor samples\n",
       "0  Maz  4930439A04Rik      1.0   9.003163161571059e-11      True       3\n",
       "1  Maz  9130227L01Rik      1.0   9.003163161571059e-11      True       3\n",
       "2  Maz           Aox3      1.0  1.2004217548761408e-30      True       5\n",
       "3  Maz        Gm11578      1.0                     0.0      True       2\n",
       "4  Maz        Gm16150      1.0   9.003163161571059e-11      True       3"
      ]
     },
     "execution_count": 23,
     "metadata": {},
     "output_type": "execute_result"
    }
   ],
   "source": [
    "snareseq_tfs = pd.DataFrame(data=np.unique(tf_gene_pairs, axis=0), columns=['tf', 'gene', 'rsquared', 'pvalue', 'repressor', 'samples'])\n",
    "snareseq_tfs.to_csv('snareseq_tfs.csv', index=False)\n",
    "snareseq_tfs.head()"
   ]
  },
  {
   "cell_type": "code",
   "execution_count": null,
   "metadata": {},
   "outputs": [],
   "source": []
  }
 ],
 "metadata": {
  "kernelspec": {
   "display_name": "Python 3",
   "language": "python",
   "name": "python3"
  },
  "language_info": {
   "codemirror_mode": {
    "name": "ipython",
    "version": 3
   },
   "file_extension": ".py",
   "mimetype": "text/x-python",
   "name": "python",
   "nbconvert_exporter": "python",
   "pygments_lexer": "ipython3",
   "version": "3.7.3"
  }
 },
 "nbformat": 4,
 "nbformat_minor": 4
}
